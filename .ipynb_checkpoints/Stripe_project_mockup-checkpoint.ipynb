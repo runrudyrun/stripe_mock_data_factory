{
 "cells": [
  {
   "cell_type": "markdown",
   "id": "d0b1f9fc",
   "metadata": {},
   "source": [
    "# Installation"
   ]
  },
  {
   "cell_type": "code",
   "execution_count": 9,
   "id": "fd640cfe",
   "metadata": {
    "scrolled": false
   },
   "outputs": [
    {
     "name": "stdout",
     "output_type": "stream",
     "text": [
      "Requirement already satisfied: stripe in /home/runrudy/anaconda3/lib/python3.8/site-packages (5.2.0)\n",
      "Requirement already satisfied: requests>=2.20 in /home/runrudy/anaconda3/lib/python3.8/site-packages (from stripe) (2.26.0)\n",
      "Requirement already satisfied: charset-normalizer~=2.0.0 in /home/runrudy/anaconda3/lib/python3.8/site-packages (from requests>=2.20->stripe) (2.0.4)\n",
      "Requirement already satisfied: certifi>=2017.4.17 in /home/runrudy/anaconda3/lib/python3.8/site-packages (from requests>=2.20->stripe) (2022.12.7)\n",
      "Requirement already satisfied: idna<4,>=2.5 in /home/runrudy/anaconda3/lib/python3.8/site-packages (from requests>=2.20->stripe) (3.2)\n",
      "Requirement already satisfied: urllib3<1.27,>=1.21.1 in /home/runrudy/anaconda3/lib/python3.8/site-packages (from requests>=2.20->stripe) (1.26.6)\n",
      "Collecting python-dotenv\n",
      "  Downloading python_dotenv-1.0.0-py3-none-any.whl (19 kB)\n",
      "Installing collected packages: python-dotenv\n",
      "Successfully installed python-dotenv-1.0.0\n"
     ]
    }
   ],
   "source": [
    "!pip install stripe\n",
    "!pip install python-dotenv"
   ]
  },
  {
   "cell_type": "markdown",
   "id": "2672f553",
   "metadata": {},
   "source": [
    "# Import"
   ]
  },
  {
   "cell_type": "code",
   "execution_count": 144,
   "id": "232b62e3",
   "metadata": {},
   "outputs": [
    {
     "data": {
      "text/plain": [
       "True"
      ]
     },
     "execution_count": 144,
     "metadata": {},
     "output_type": "execute_result"
    }
   ],
   "source": [
    "import stripe\n",
    "import json\n",
    "import pandas as pd\n",
    "import random\n",
    "from jinja2 import Template\n",
    "import string\n",
    "import hashlib\n",
    "\n",
    "import os\n",
    "\n",
    "# Load environment variables from .env file\n",
    "from dotenv import load_dotenv\n",
    "load_dotenv()"
   ]
  },
  {
   "cell_type": "markdown",
   "id": "f7019323",
   "metadata": {},
   "source": [
    "# Setup"
   ]
  },
  {
   "cell_type": "code",
   "execution_count": 25,
   "id": "1e01c431",
   "metadata": {},
   "outputs": [],
   "source": [
    "stripe.api_key = os.environ.get('STRIPE_API_KEY')\n",
    "\n",
    "customers = stripe.Customer.list(limit=100)"
   ]
  },
  {
   "cell_type": "code",
   "execution_count": 26,
   "id": "a6779475",
   "metadata": {},
   "outputs": [
    {
     "data": {
      "text/plain": [
       "<ListObject list at 0x7ffa842528b0> JSON: {\n",
       "  \"data\": [],\n",
       "  \"has_more\": false,\n",
       "  \"object\": \"list\",\n",
       "  \"url\": \"/v1/customers\"\n",
       "}"
      ]
     },
     "execution_count": 26,
     "metadata": {},
     "output_type": "execute_result"
    }
   ],
   "source": [
    "customers"
   ]
  },
  {
   "cell_type": "markdown",
   "id": "afe86d0d",
   "metadata": {},
   "source": [
    "# Mocking up stripe data"
   ]
  },
  {
   "cell_type": "markdown",
   "id": "850da342",
   "metadata": {},
   "source": [
    "## Clients"
   ]
  },
  {
   "cell_type": "code",
   "execution_count": 44,
   "id": "20ef7a14",
   "metadata": {},
   "outputs": [],
   "source": [
    "with open('./mockup_templates/clients.json', 'r') as f:\n",
    "    clients = json.load(f)\n",
    "    f.close()\n",
    "\n",
    "first_names = clients['first_names']\n",
    "last_names = clients['last_names']\n",
    "prefixes = clients['prefixes']\n",
    "domains = clients['domains']\n",
    "cities = clients['cities']\n",
    "postal_codes = clients['postal_codes']\n",
    "\n",
    "state_codes = []\n",
    "for i in range(10):\n",
    "    state_code = ''.join(random.choices('ABCDEFGHIJKLMNOPQRSTUVWXYZ', k=2))\n",
    "    state_codes.append(state_code)\n",
    "\n"
   ]
  },
  {
   "cell_type": "code",
   "execution_count": 45,
   "id": "28fe50cc",
   "metadata": {},
   "outputs": [
    {
     "name": "stdout",
     "output_type": "stream",
     "text": [
      "Fake customer ID: cus_NSnaKGx1g4GaH1\n",
      "Fake customer ID: cus_NSnaxIdVPxRvJo\n",
      "Fake customer ID: cus_NSna0ghLPTnLbU\n",
      "Fake customer ID: cus_NSnawp6NXm13tb\n",
      "Fake customer ID: cus_NSnaIDRMR9MUhe\n",
      "Fake customer ID: cus_NSnaftGaq9nEKk\n",
      "Fake customer ID: cus_NSnagOM7BadAvt\n",
      "Fake customer ID: cus_NSna9a6WRA1HMq\n",
      "Fake customer ID: cus_NSnaHUrZ6CekTL\n",
      "Fake customer ID: cus_NSnaGYtGIaTTxG\n"
     ]
    }
   ],
   "source": [
    "# Define the number of customers to create\n",
    "num_customers = 10\n",
    "customer_ids = []\n",
    "\n",
    "# Loop through the number of customers and create a new customer object for each one\n",
    "for i in range(num_customers):\n",
    "    # Choose a random name from the list of names\n",
    "    name = random.choice(first_names) + ' ' + random.choice(last_names)\n",
    "\n",
    "    # Choose a random email domain from the list of domains\n",
    "    domain = random.choice(domains)\n",
    "\n",
    "    # Generate a fake email address using the name and domain\n",
    "    email = f\"{name.lower().replace(' ', '.')}@{domain}\"\n",
    "\n",
    "    # Choose a random phone number prefix from the list of prefixes\n",
    "    prefix = random.choice(prefixes)\n",
    "\n",
    "    # Generate a fake phone number using the prefix and a random number\n",
    "    phone = f\"{prefix} {random.randint(10000000, 99999999)}\"\n",
    "\n",
    "    # Choose a random postal code from the list of postal codes\n",
    "    postal_code = random.choice(postal_codes)\n",
    "    \n",
    "    # Choose a random city code from the list of postal codes\n",
    "    city = random.choice(cities)\n",
    "    \n",
    "    # Choose a random city code from the list of postal codes\n",
    "    state_code = random.choice(state_codes)\n",
    "\n",
    "    # Create a new customer with the fake data\n",
    "    customer = stripe.Customer.create(\n",
    "        name=name,\n",
    "        email=email,\n",
    "        phone=phone,\n",
    "        address={\n",
    "            \"line1\": f\"{random.randint(100, 999)} Main St\",\n",
    "            \"line2\": \"\",\n",
    "            \"city\": city,\n",
    "            \"state\": state_code,\n",
    "            \"postal_code\": postal_code,\n",
    "            \"country\": \"Wonderland\"\n",
    "        }\n",
    "    )\n",
    "\n",
    "    # Print the fake customer ID generated by Stripe\n",
    "    customer_ids.append(customer.id)"
   ]
  },
  {
   "cell_type": "markdown",
   "id": "f5f9db67",
   "metadata": {},
   "source": [
    "## Payment methods"
   ]
  },
  {
   "cell_type": "markdown",
   "id": "812324f3",
   "metadata": {},
   "source": [
    "### Helpers"
   ]
  },
  {
   "cell_type": "code",
   "execution_count": 141,
   "id": "680de443",
   "metadata": {},
   "outputs": [],
   "source": [
    "def generate_card_number():\n",
    "    card_type = random.choice(['visa', 'mastercard', 'arca', 'mir', 'unionpay'])\n",
    "    if card_type == 'visa':\n",
    "        prefix = '4'\n",
    "        length = 16\n",
    "    elif card_type == 'mastercard':\n",
    "        prefix = str(random.choice([51, 52, 53, 54, 55]))\n",
    "        length = 16\n",
    "    elif card_type == 'arca':\n",
    "        prefix = '6'\n",
    "        length = random.choice([16, 17, 18, 19])\n",
    "    elif card_type == 'mir':\n",
    "        prefix = '220'\n",
    "        length = 16\n",
    "    elif card_type == 'unionpay':\n",
    "        prefix = str(random.choice(range(622126, 622926)))\n",
    "        length = 16\n",
    "    else:\n",
    "        raise ValueError('Invalid card type')\n",
    "    \n",
    "    while len(prefix) < length - 1:\n",
    "        prefix += str(random.choice(range(10)))\n",
    "    \n",
    "    card_number = prefix + luhn_checksum(prefix)\n",
    "    \n",
    "    return card_number\n",
    "    \n",
    "def luhn_checksum(card_number):\n",
    "    digits = [int(digit) for digit in str(card_number)]\n",
    "    odd_digits = digits[-1::-2]\n",
    "    even_digits = digits[-2::-2]\n",
    "    total = sum(odd_digits)\n",
    "    for digit in even_digits:\n",
    "        total += sum([int(d) for d in str(digit * 2)])\n",
    "    return str((10 - total % 10) % 10)\n",
    "\n",
    "def generate_iban(country_code):\n",
    "    # Germany has 18 characters in their IBAN\n",
    "    length = 18\n",
    "\n",
    "    # Generate a random 16-digit account number\n",
    "    account_number = ''.join(str(random.randint(0, 9)) for _ in range(length - 4))\n",
    "\n",
    "    # Concatenate the country code, checksum, and account number\n",
    "    iban = '{}00{}'.format(country_code, account_number)\n",
    "\n",
    "    #now leave it like this since this algorythm is not valid\n",
    "#     # Calculate the checksum using the mod-97 algorithm\n",
    "#     checksum = str(98 - (int(iban) % 97)).zfill(2)\n",
    "\n",
    "#     # Insert the checksum into the IBAN\n",
    "#     iban = '{}{}'.format(country_code, checksum) + account_number\n",
    "\n",
    "#     # Apply the country-specific format rules to the IBAN\n",
    "#     if country_code == 'DE':\n",
    "#         iban = '{} {} {} {} {} {}'.format(iban[:4], iban[4:8], iban[8:12], iban[12:16], iban[16:20], iban[20:])\n",
    "\n",
    "    return iban\n",
    "\n",
    "def generate_fingerprint(iban):\n",
    "    # Calculate the SHA-256 hash of the IBAN\n",
    "    hash_value = hashlib.sha256(iban.encode()).hexdigest()\n",
    "\n",
    "    # Extract the last 4 digits of the IBAN\n",
    "    last_4_digits = iban[-4:]\n",
    "\n",
    "    # Take the first 6 characters of the hash and append the last 4 digits of the IBAN\n",
    "    fingerprint = hash_value[:6] + last_4_digits\n",
    "    \n",
    "    return last_4_digits, fingerprint"
   ]
  },
  {
   "cell_type": "code",
   "execution_count": 147,
   "id": "51478c66",
   "metadata": {},
   "outputs": [
    {
     "ename": "TypeError",
     "evalue": "generate_iban() missing 1 required positional argument: 'country_code'",
     "output_type": "error",
     "traceback": [
      "\u001b[0;31m---------------------------------------------------------------------------\u001b[0m",
      "\u001b[0;31mTypeError\u001b[0m                                 Traceback (most recent call last)",
      "\u001b[0;32m/tmp/ipykernel_30719/415928283.py\u001b[0m in \u001b[0;36m<module>\u001b[0;34m\u001b[0m\n\u001b[1;32m     20\u001b[0m         \u001b[0;34m'country'\u001b[0m\u001b[0;34m:\u001b[0m\u001b[0;34m'WO'\u001b[0m\u001b[0;34m,\u001b[0m\u001b[0;34m\u001b[0m\u001b[0;34m\u001b[0m\u001b[0m\n\u001b[1;32m     21\u001b[0m         \u001b[0;34m'fingerprint'\u001b[0m\u001b[0;34m:\u001b[0m\u001b[0;34m'placeholder'\u001b[0m\u001b[0;34m,\u001b[0m\u001b[0;34m\u001b[0m\u001b[0;34m\u001b[0m\u001b[0m\n\u001b[0;32m---> 22\u001b[0;31m         \u001b[0;34m'last4'\u001b[0m\u001b[0;34m:\u001b[0m\u001b[0mgenerate_iban\u001b[0m\u001b[0;34m(\u001b[0m\u001b[0;34m)\u001b[0m\u001b[0;34m[\u001b[0m\u001b[0;34m-\u001b[0m\u001b[0;36m4\u001b[0m\u001b[0;34m:\u001b[0m\u001b[0;34m]\u001b[0m\u001b[0;34m,\u001b[0m\u001b[0;34m\u001b[0m\u001b[0;34m\u001b[0m\u001b[0m\n\u001b[0m\u001b[1;32m     23\u001b[0m         'billing_details': {\n\u001b[1;32m     24\u001b[0m             \u001b[0;34m'name'\u001b[0m\u001b[0;34m:\u001b[0m \u001b[0;34m'placeholder'\u001b[0m\u001b[0;34m,\u001b[0m\u001b[0;34m\u001b[0m\u001b[0;34m\u001b[0m\u001b[0m\n",
      "\u001b[0;31mTypeError\u001b[0m: generate_iban() missing 1 required positional argument: 'country_code'"
     ]
    }
   ],
   "source": [
    "#Let's make 4 of payment methods for now\n",
    "payment_methods = {\n",
    "        \"card\": {\n",
    "        \"type\": \"card\"\n",
    "        \"brand\": random.choice([]),\n",
    "        \"checks\": {\n",
    "            \"address_line1_check\": None,\n",
    "            \"address_postal_code_check\": None,\n",
    "            \"cvc_check\": None\n",
    "        },\n",
    "        \"country\": \"US\",\n",
    "        \"exp_month\": 12,\n",
    "        \"exp_year\": 2024,\n",
    "        \"fingerprint\": \"O5J5x5QFN98mO5SC\",\n",
    "        \"funding\": \"credit\",\n",
    "        \"generated_from\": None,\n",
    "        \"last4\": generate_,\n",
    "        \"networks\": {\n",
    "            \"available\": [\n",
    "                \"visa\"\n",
    "            ],\n",
    "            \"preferred\": \"visa\"\n",
    "        },\n",
    "        \"three_d_secure_usage\": {\n",
    "            \"supported\": True\n",
    "        },\n",
    "        \"wallet\": None\n",
    "    }\n",
    "}\n",
    "\n",
    "    },\n",
    "    'giropay': {\n",
    "        'type': 'giropay',\n",
    "        'statement_descriptor': 'placeholder',\n",
    "        'billing_details': {\n",
    "            'name': 'placeholder',\n",
    "            'email': 'placeholder',\n",
    "            'address': 'placeholder'\n",
    "        }\n",
    "    },\n",
    "    'klarna': {\n",
    "        'type': 'klarna',\n",
    "        'product': 'pay_later',\n",
    "        'purchase_country': 'DE',\n",
    "        'purchase_currency': 'EUR',\n",
    "        'locale': 'de-DE'\n",
    "    },\n",
    "    'billing_details': {\n",
    "        'name': 'placeholder',\n",
    "        'email': 'placeholder',\n",
    "        'phone': 'placeholder',\n",
    "        'address': {\n",
    "            'line1': 'placeholder',\n",
    "            'city': 'placeholder',\n",
    "            'postal_code': 'placeholder',\n",
    "            'state': 'placeholder',\n",
    "            'country': 'placeholder'\n",
    "          }\n",
    "       }\n",
    "    }"
   ]
  },
  {
   "cell_type": "code",
   "execution_count": 148,
   "id": "9ff29fb1",
   "metadata": {},
   "outputs": [
    {
     "name": "stdout",
     "output_type": "stream",
     "text": [
      "William Davis giropay\n"
     ]
    },
    {
     "ename": "InvalidRequestError",
     "evalue": "Request req_6DlGwRlqiaVx4s: Received unknown parameter: statement_descriptor",
     "output_type": "error",
     "traceback": [
      "\u001b[0;31m---------------------------------------------------------------------------\u001b[0m",
      "\u001b[0;31mInvalidRequestError\u001b[0m                       Traceback (most recent call last)",
      "\u001b[0;32m/tmp/ipykernel_30719/3077047494.py\u001b[0m in \u001b[0;36m<module>\u001b[0;34m\u001b[0m\n\u001b[1;32m     22\u001b[0m             \u001b[0mmethod\u001b[0m\u001b[0;34m[\u001b[0m\u001b[0;34m'last4'\u001b[0m\u001b[0;34m]\u001b[0m\u001b[0;34m,\u001b[0m \u001b[0mmethod\u001b[0m\u001b[0;34m[\u001b[0m\u001b[0;34m'fingerprint'\u001b[0m\u001b[0;34m]\u001b[0m \u001b[0;34m=\u001b[0m \u001b[0mgenerate_fingerprint\u001b[0m\u001b[0;34m(\u001b[0m\u001b[0miban\u001b[0m\u001b[0;34m)\u001b[0m\u001b[0;34m\u001b[0m\u001b[0;34m\u001b[0m\u001b[0m\n\u001b[1;32m     23\u001b[0m \u001b[0;34m\u001b[0m\u001b[0m\n\u001b[0;32m---> 24\u001b[0;31m         payment_method = stripe.PaymentMethod.create(\n\u001b[0m\u001b[1;32m     25\u001b[0m             \u001b[0;34m**\u001b[0m\u001b[0mmethod\u001b[0m\u001b[0;34m\u001b[0m\u001b[0;34m\u001b[0m\u001b[0m\n\u001b[1;32m     26\u001b[0m         )\n",
      "\u001b[0;32m~/anaconda3/lib/python3.8/site-packages/stripe/api_resources/abstract/createable_api_resource.py\u001b[0m in \u001b[0;36mcreate\u001b[0;34m(cls, api_key, idempotency_key, stripe_version, stripe_account, **params)\u001b[0m\n\u001b[1;32m     14\u001b[0m         \u001b[0;34m**\u001b[0m\u001b[0mparams\u001b[0m\u001b[0;34m\u001b[0m\u001b[0;34m\u001b[0m\u001b[0m\n\u001b[1;32m     15\u001b[0m     ):\n\u001b[0;32m---> 16\u001b[0;31m         return cls._static_request(\n\u001b[0m\u001b[1;32m     17\u001b[0m             \u001b[0;34m\"post\"\u001b[0m\u001b[0;34m,\u001b[0m\u001b[0;34m\u001b[0m\u001b[0;34m\u001b[0m\u001b[0m\n\u001b[1;32m     18\u001b[0m             \u001b[0mcls\u001b[0m\u001b[0;34m.\u001b[0m\u001b[0mclass_url\u001b[0m\u001b[0;34m(\u001b[0m\u001b[0;34m)\u001b[0m\u001b[0;34m,\u001b[0m\u001b[0;34m\u001b[0m\u001b[0;34m\u001b[0m\u001b[0m\n",
      "\u001b[0;32m~/anaconda3/lib/python3.8/site-packages/stripe/api_resources/abstract/api_resource.py\u001b[0m in \u001b[0;36m_static_request\u001b[0;34m(cls, method_, url_, api_key, idempotency_key, stripe_version, stripe_account, params)\u001b[0m\n\u001b[1;32m    137\u001b[0m             \u001b[0mheaders\u001b[0m\u001b[0;34m.\u001b[0m\u001b[0mupdate\u001b[0m\u001b[0;34m(\u001b[0m\u001b[0mutil\u001b[0m\u001b[0;34m.\u001b[0m\u001b[0mpopulate_headers\u001b[0m\u001b[0;34m(\u001b[0m\u001b[0midempotency_key\u001b[0m\u001b[0;34m)\u001b[0m\u001b[0;34m)\u001b[0m\u001b[0;34m\u001b[0m\u001b[0;34m\u001b[0m\u001b[0m\n\u001b[1;32m    138\u001b[0m \u001b[0;34m\u001b[0m\u001b[0m\n\u001b[0;32m--> 139\u001b[0;31m         \u001b[0mresponse\u001b[0m\u001b[0;34m,\u001b[0m \u001b[0mapi_key\u001b[0m \u001b[0;34m=\u001b[0m \u001b[0mrequestor\u001b[0m\u001b[0;34m.\u001b[0m\u001b[0mrequest\u001b[0m\u001b[0;34m(\u001b[0m\u001b[0mmethod_\u001b[0m\u001b[0;34m,\u001b[0m \u001b[0murl_\u001b[0m\u001b[0;34m,\u001b[0m \u001b[0mparams\u001b[0m\u001b[0;34m,\u001b[0m \u001b[0mheaders\u001b[0m\u001b[0;34m)\u001b[0m\u001b[0;34m\u001b[0m\u001b[0;34m\u001b[0m\u001b[0m\n\u001b[0m\u001b[1;32m    140\u001b[0m         return util.convert_to_stripe_object(\n\u001b[1;32m    141\u001b[0m             \u001b[0mresponse\u001b[0m\u001b[0;34m,\u001b[0m \u001b[0mapi_key\u001b[0m\u001b[0;34m,\u001b[0m \u001b[0mstripe_version\u001b[0m\u001b[0;34m,\u001b[0m \u001b[0mstripe_account\u001b[0m\u001b[0;34m,\u001b[0m \u001b[0mparams\u001b[0m\u001b[0;34m\u001b[0m\u001b[0;34m\u001b[0m\u001b[0m\n",
      "\u001b[0;32m~/anaconda3/lib/python3.8/site-packages/stripe/api_requestor.py\u001b[0m in \u001b[0;36mrequest\u001b[0;34m(self, method, url, params, headers)\u001b[0m\n\u001b[1;32m    120\u001b[0m             \u001b[0mmethod\u001b[0m\u001b[0;34m.\u001b[0m\u001b[0mlower\u001b[0m\u001b[0;34m(\u001b[0m\u001b[0;34m)\u001b[0m\u001b[0;34m,\u001b[0m \u001b[0murl\u001b[0m\u001b[0;34m,\u001b[0m \u001b[0mparams\u001b[0m\u001b[0;34m,\u001b[0m \u001b[0mheaders\u001b[0m\u001b[0;34m,\u001b[0m \u001b[0mis_streaming\u001b[0m\u001b[0;34m=\u001b[0m\u001b[0;32mFalse\u001b[0m\u001b[0;34m\u001b[0m\u001b[0;34m\u001b[0m\u001b[0m\n\u001b[1;32m    121\u001b[0m         )\n\u001b[0;32m--> 122\u001b[0;31m         \u001b[0mresp\u001b[0m \u001b[0;34m=\u001b[0m \u001b[0mself\u001b[0m\u001b[0;34m.\u001b[0m\u001b[0minterpret_response\u001b[0m\u001b[0;34m(\u001b[0m\u001b[0mrbody\u001b[0m\u001b[0;34m,\u001b[0m \u001b[0mrcode\u001b[0m\u001b[0;34m,\u001b[0m \u001b[0mrheaders\u001b[0m\u001b[0;34m)\u001b[0m\u001b[0;34m\u001b[0m\u001b[0;34m\u001b[0m\u001b[0m\n\u001b[0m\u001b[1;32m    123\u001b[0m         \u001b[0;32mreturn\u001b[0m \u001b[0mresp\u001b[0m\u001b[0;34m,\u001b[0m \u001b[0mmy_api_key\u001b[0m\u001b[0;34m\u001b[0m\u001b[0;34m\u001b[0m\u001b[0m\n\u001b[1;32m    124\u001b[0m \u001b[0;34m\u001b[0m\u001b[0m\n",
      "\u001b[0;32m~/anaconda3/lib/python3.8/site-packages/stripe/api_requestor.py\u001b[0m in \u001b[0;36minterpret_response\u001b[0;34m(self, rbody, rcode, rheaders)\u001b[0m\n\u001b[1;32m    397\u001b[0m             )\n\u001b[1;32m    398\u001b[0m         \u001b[0;32mif\u001b[0m \u001b[0mself\u001b[0m\u001b[0;34m.\u001b[0m\u001b[0m_should_handle_code_as_error\u001b[0m\u001b[0;34m(\u001b[0m\u001b[0mrcode\u001b[0m\u001b[0;34m)\u001b[0m\u001b[0;34m:\u001b[0m\u001b[0;34m\u001b[0m\u001b[0;34m\u001b[0m\u001b[0m\n\u001b[0;32m--> 399\u001b[0;31m             \u001b[0mself\u001b[0m\u001b[0;34m.\u001b[0m\u001b[0mhandle_error_response\u001b[0m\u001b[0;34m(\u001b[0m\u001b[0mrbody\u001b[0m\u001b[0;34m,\u001b[0m \u001b[0mrcode\u001b[0m\u001b[0;34m,\u001b[0m \u001b[0mresp\u001b[0m\u001b[0;34m.\u001b[0m\u001b[0mdata\u001b[0m\u001b[0;34m,\u001b[0m \u001b[0mrheaders\u001b[0m\u001b[0;34m)\u001b[0m\u001b[0;34m\u001b[0m\u001b[0;34m\u001b[0m\u001b[0m\n\u001b[0m\u001b[1;32m    400\u001b[0m         \u001b[0;32mreturn\u001b[0m \u001b[0mresp\u001b[0m\u001b[0;34m\u001b[0m\u001b[0;34m\u001b[0m\u001b[0m\n\u001b[1;32m    401\u001b[0m \u001b[0;34m\u001b[0m\u001b[0m\n",
      "\u001b[0;32m~/anaconda3/lib/python3.8/site-packages/stripe/api_requestor.py\u001b[0m in \u001b[0;36mhandle_error_response\u001b[0;34m(self, rbody, rcode, resp, rheaders)\u001b[0m\n\u001b[1;32m    157\u001b[0m             )\n\u001b[1;32m    158\u001b[0m \u001b[0;34m\u001b[0m\u001b[0m\n\u001b[0;32m--> 159\u001b[0;31m         \u001b[0;32mraise\u001b[0m \u001b[0merr\u001b[0m\u001b[0;34m\u001b[0m\u001b[0;34m\u001b[0m\u001b[0m\n\u001b[0m\u001b[1;32m    160\u001b[0m \u001b[0;34m\u001b[0m\u001b[0m\n\u001b[1;32m    161\u001b[0m     \u001b[0;32mdef\u001b[0m \u001b[0mspecific_api_error\u001b[0m\u001b[0;34m(\u001b[0m\u001b[0mself\u001b[0m\u001b[0;34m,\u001b[0m \u001b[0mrbody\u001b[0m\u001b[0;34m,\u001b[0m \u001b[0mrcode\u001b[0m\u001b[0;34m,\u001b[0m \u001b[0mresp\u001b[0m\u001b[0;34m,\u001b[0m \u001b[0mrheaders\u001b[0m\u001b[0;34m,\u001b[0m \u001b[0merror_data\u001b[0m\u001b[0;34m)\u001b[0m\u001b[0;34m:\u001b[0m\u001b[0;34m\u001b[0m\u001b[0;34m\u001b[0m\u001b[0m\n",
      "\u001b[0;31mInvalidRequestError\u001b[0m: Request req_6DlGwRlqiaVx4s: Received unknown parameter: statement_descriptor"
     ]
    }
   ],
   "source": [
    "# Get a list of all the customers\n",
    "customers = stripe.Customer.list(limit=100)\n",
    "\n",
    "# Loop through the customers and attach a payment method to each one\n",
    "for customer in customers:\n",
    "    #let's add 1 or two random payment methods for each customer\n",
    "    for i in range(random.randint(1,2)):\n",
    "        method = payment_methods[\n",
    "            random.choice(\n",
    "                list(payment_methods.keys()\n",
    "                    )\n",
    "            )\n",
    "        ]\n",
    "        print(customer.name, method['type'])\n",
    "        if 'billing_details' in method:\n",
    "            method['billing_details']['name'] = customer.name\n",
    "            method['billing_details']['email'] = customer.email\n",
    "            method['billing_details']['address'] = customer.address\n",
    "            method['billing_details']['phone'] = customer.phone\n",
    "        if method['type'] == 'sepa_debit':\n",
    "            iban = generate_iban('WO')\n",
    "            method['last4'], method['fingerprint'] = generate_fingerprint(iban)\n",
    "            \n",
    "        payment_method = stripe.PaymentMethod.create(\n",
    "            **method\n",
    "        )\n",
    "        \n",
    "        # Attach the payment method to the customer\n",
    "        stripe.PaymentMethod.attach(\n",
    "            method.id,\n",
    "            customer=customer.id\n",
    "        )"
   ]
  },
  {
   "cell_type": "code",
   "execution_count": 135,
   "id": "b3dcce52",
   "metadata": {},
   "outputs": [
    {
     "data": {
      "text/plain": [
       "{'name': 'placeholder',\n",
       " 'email': 'placeholder',\n",
       " 'phone': 'placeholder',\n",
       " 'address': {'line1': 'placeholder',\n",
       "  'city': 'placeholder',\n",
       "  'postal_code': 'placeholder',\n",
       "  'state': 'placeholder',\n",
       "  'country': 'placeholder'}}"
      ]
     },
     "execution_count": 135,
     "metadata": {},
     "output_type": "execute_result"
    }
   ],
   "source": [
    "method"
   ]
  },
  {
   "cell_type": "code",
   "execution_count": 83,
   "id": "415ed0a5",
   "metadata": {},
   "outputs": [
    {
     "data": {
      "text/plain": [
       "{'number': '4242424242424242', 'exp_month': 12, 'exp_year': 2022, 'cvc': '123'}"
      ]
     },
     "execution_count": 83,
     "metadata": {},
     "output_type": "execute_result"
    }
   ],
   "source": [
    "data['card']"
   ]
  },
  {
   "cell_type": "code",
   "execution_count": 115,
   "id": "200b7a40",
   "metadata": {},
   "outputs": [
    {
     "ename": "ValueError",
     "evalue": "invalid literal for int() with base 10: 'WO0026346220839938'",
     "output_type": "error",
     "traceback": [
      "\u001b[0;31m---------------------------------------------------------------------------\u001b[0m",
      "\u001b[0;31mValueError\u001b[0m                                Traceback (most recent call last)",
      "\u001b[0;32m/tmp/ipykernel_30719/1427132237.py\u001b[0m in \u001b[0;36m<module>\u001b[0;34m\u001b[0m\n\u001b[0;32m----> 1\u001b[0;31m \u001b[0mgenerate_iban\u001b[0m\u001b[0;34m(\u001b[0m\u001b[0;34m'WO'\u001b[0m\u001b[0;34m)\u001b[0m\u001b[0;34m\u001b[0m\u001b[0;34m\u001b[0m\u001b[0m\n\u001b[0m",
      "\u001b[0;32m/tmp/ipykernel_30719/2811139756.py\u001b[0m in \u001b[0;36mgenerate_iban\u001b[0;34m(country_code)\u001b[0m\n\u001b[1;32m     46\u001b[0m \u001b[0;34m\u001b[0m\u001b[0m\n\u001b[1;32m     47\u001b[0m     \u001b[0;31m# Calculate the checksum using the mod-97 algorithm\u001b[0m\u001b[0;34m\u001b[0m\u001b[0;34m\u001b[0m\u001b[0;34m\u001b[0m\u001b[0m\n\u001b[0;32m---> 48\u001b[0;31m     \u001b[0mchecksum\u001b[0m \u001b[0;34m=\u001b[0m \u001b[0mstr\u001b[0m\u001b[0;34m(\u001b[0m\u001b[0;36m98\u001b[0m \u001b[0;34m-\u001b[0m \u001b[0;34m(\u001b[0m\u001b[0mint\u001b[0m\u001b[0;34m(\u001b[0m\u001b[0miban\u001b[0m\u001b[0;34m)\u001b[0m \u001b[0;34m%\u001b[0m \u001b[0;36m97\u001b[0m\u001b[0;34m)\u001b[0m\u001b[0;34m)\u001b[0m\u001b[0;34m.\u001b[0m\u001b[0mzfill\u001b[0m\u001b[0;34m(\u001b[0m\u001b[0;36m2\u001b[0m\u001b[0;34m)\u001b[0m\u001b[0;34m\u001b[0m\u001b[0;34m\u001b[0m\u001b[0m\n\u001b[0m\u001b[1;32m     49\u001b[0m \u001b[0;34m\u001b[0m\u001b[0m\n\u001b[1;32m     50\u001b[0m     \u001b[0;31m# Insert the checksum into the IBAN\u001b[0m\u001b[0;34m\u001b[0m\u001b[0;34m\u001b[0m\u001b[0;34m\u001b[0m\u001b[0m\n",
      "\u001b[0;31mValueError\u001b[0m: invalid literal for int() with base 10: 'WO0026346220839938'"
     ]
    }
   ],
   "source": [
    "generate_iban('WO')"
   ]
  },
  {
   "cell_type": "code",
   "execution_count": null,
   "id": "9b894841",
   "metadata": {},
   "outputs": [],
   "source": []
  }
 ],
 "metadata": {
  "kernelspec": {
   "display_name": "Python 3 (ipykernel)",
   "language": "python",
   "name": "python3"
  },
  "language_info": {
   "codemirror_mode": {
    "name": "ipython",
    "version": 3
   },
   "file_extension": ".py",
   "mimetype": "text/x-python",
   "name": "python",
   "nbconvert_exporter": "python",
   "pygments_lexer": "ipython3",
   "version": "3.8.8"
  }
 },
 "nbformat": 4,
 "nbformat_minor": 5
}
